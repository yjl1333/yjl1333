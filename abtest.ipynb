{
 "cells": [
  {
   "cell_type": "markdown",
   "id": "efeae15f",
   "metadata": {
    "papermill": {
     "duration": 0.007405,
     "end_time": "2025-03-01T08:30:13.665094",
     "exception": false,
     "start_time": "2025-03-01T08:30:13.657689",
     "status": "completed"
    },
    "tags": []
   },
   "source": [
    "# 1.实验背景及目标"
   ]
  },
  {
   "cell_type": "markdown",
   "id": "8089db88",
   "metadata": {
    "papermill": {
     "duration": 0.00706,
     "end_time": "2025-03-01T08:30:13.679755",
     "exception": false,
     "start_time": "2025-03-01T08:30:13.672695",
     "status": "completed"
    },
    "tags": []
   },
   "source": [
    "某电商公司非常注重自己的落地页设计，希望通过改进设计来提高转化率。以往该公司全年转化率平均在13%左右，现在希望设计的新页恒能够带来更高的转化率，希望新页面的转化率能有2%的提升，达到15%。在正式推出新页面之前，该公司希望通过AB测试在小范围的用户中进行测试，以确保新页面的效果能够达到预期目标。"
   ]
  },
  {
   "cell_type": "markdown",
   "id": "8fe3673f",
   "metadata": {
    "papermill": {
     "duration": 0.006173,
     "end_time": "2025-03-01T08:30:13.692725",
     "exception": false,
     "start_time": "2025-03-01T08:30:13.686552",
     "status": "completed"
    },
    "tags": []
   },
   "source": [
    "# 2.提出假设"
   ]
  },
  {
   "cell_type": "markdown",
   "id": "1c24fc9b",
   "metadata": {
    "papermill": {
     "duration": 0.006701,
     "end_time": "2025-03-01T08:30:13.706984",
     "exception": false,
     "start_time": "2025-03-01T08:30:13.700283",
     "status": "completed"
    },
    "tags": []
   },
   "source": [
    "原假设：p=p0,即新页面与旧页面无明显差异\n",
    "备择假设：p≠p0,即新页面与旧页面有明显差异"
   ]
  },
  {
   "cell_type": "code",
   "execution_count": 1,
   "id": "b60feb33",
   "metadata": {
    "execution": {
     "iopub.execute_input": "2025-03-01T08:30:13.723482Z",
     "iopub.status.busy": "2025-03-01T08:30:13.723066Z",
     "iopub.status.idle": "2025-03-01T08:30:17.122028Z",
     "shell.execute_reply": "2025-03-01T08:30:17.120973Z"
    },
    "papermill": {
     "duration": 3.408798,
     "end_time": "2025-03-01T08:30:17.123990",
     "exception": false,
     "start_time": "2025-03-01T08:30:13.715192",
     "status": "completed"
    },
    "tags": []
   },
   "outputs": [],
   "source": [
    "import pandas as pd\n",
    "import numpy as np\n",
    "import scipy.stats as stats\n",
    "import statsmodels.stats.api as sms\n",
    "import matplotlib as mpl\n",
    "import matplotlib.pyplot as plt\n",
    "import seaborn as sns"
   ]
  },
  {
   "cell_type": "markdown",
   "id": "9ef47298",
   "metadata": {
    "papermill": {
     "duration": 0.006802,
     "end_time": "2025-03-01T08:30:17.137587",
     "exception": false,
     "start_time": "2025-03-01T08:30:17.130785",
     "status": "completed"
    },
    "tags": []
   },
   "source": [
    "# 3. 数据预览"
   ]
  },
  {
   "cell_type": "code",
   "execution_count": 2,
   "id": "9299530e",
   "metadata": {
    "execution": {
     "iopub.execute_input": "2025-03-01T08:30:17.153003Z",
     "iopub.status.busy": "2025-03-01T08:30:17.152505Z",
     "iopub.status.idle": "2025-03-01T08:30:17.742427Z",
     "shell.execute_reply": "2025-03-01T08:30:17.741143Z"
    },
    "papermill": {
     "duration": 0.599742,
     "end_time": "2025-03-01T08:30:17.744320",
     "exception": false,
     "start_time": "2025-03-01T08:30:17.144578",
     "status": "completed"
    },
    "tags": []
   },
   "outputs": [
    {
     "data": {
      "text/html": [
       "<div>\n",
       "<style scoped>\n",
       "    .dataframe tbody tr th:only-of-type {\n",
       "        vertical-align: middle;\n",
       "    }\n",
       "\n",
       "    .dataframe tbody tr th {\n",
       "        vertical-align: top;\n",
       "    }\n",
       "\n",
       "    .dataframe thead th {\n",
       "        text-align: right;\n",
       "    }\n",
       "</style>\n",
       "<table border=\"1\" class=\"dataframe\">\n",
       "  <thead>\n",
       "    <tr style=\"text-align: right;\">\n",
       "      <th></th>\n",
       "      <th>user_id</th>\n",
       "      <th>timestamp</th>\n",
       "      <th>group</th>\n",
       "      <th>landing_page</th>\n",
       "      <th>converted</th>\n",
       "    </tr>\n",
       "  </thead>\n",
       "  <tbody>\n",
       "    <tr>\n",
       "      <th>0</th>\n",
       "      <td>851104</td>\n",
       "      <td>2017-01-21 22:11:48.556739</td>\n",
       "      <td>control</td>\n",
       "      <td>old_page</td>\n",
       "      <td>0</td>\n",
       "    </tr>\n",
       "    <tr>\n",
       "      <th>1</th>\n",
       "      <td>804228</td>\n",
       "      <td>2017-01-12 08:01:45.159739</td>\n",
       "      <td>control</td>\n",
       "      <td>old_page</td>\n",
       "      <td>0</td>\n",
       "    </tr>\n",
       "    <tr>\n",
       "      <th>2</th>\n",
       "      <td>661590</td>\n",
       "      <td>2017-01-11 16:55:06.154213</td>\n",
       "      <td>treatment</td>\n",
       "      <td>new_page</td>\n",
       "      <td>0</td>\n",
       "    </tr>\n",
       "    <tr>\n",
       "      <th>3</th>\n",
       "      <td>853541</td>\n",
       "      <td>2017-01-08 18:28:03.143765</td>\n",
       "      <td>treatment</td>\n",
       "      <td>new_page</td>\n",
       "      <td>0</td>\n",
       "    </tr>\n",
       "    <tr>\n",
       "      <th>4</th>\n",
       "      <td>864975</td>\n",
       "      <td>2017-01-21 01:52:26.210827</td>\n",
       "      <td>control</td>\n",
       "      <td>old_page</td>\n",
       "      <td>1</td>\n",
       "    </tr>\n",
       "  </tbody>\n",
       "</table>\n",
       "</div>"
      ],
      "text/plain": [
       "   user_id                   timestamp      group landing_page  converted\n",
       "0   851104  2017-01-21 22:11:48.556739    control     old_page          0\n",
       "1   804228  2017-01-12 08:01:45.159739    control     old_page          0\n",
       "2   661590  2017-01-11 16:55:06.154213  treatment     new_page          0\n",
       "3   853541  2017-01-08 18:28:03.143765  treatment     new_page          0\n",
       "4   864975  2017-01-21 01:52:26.210827    control     old_page          1"
      ]
     },
     "execution_count": 2,
     "metadata": {},
     "output_type": "execute_result"
    }
   ],
   "source": [
    "# 导入数据\n",
    "df = pd.read_csv('/kaggle/input/ab-data/ab_data.csv')\n",
    "df.head()"
   ]
  },
  {
   "cell_type": "code",
   "execution_count": 3,
   "id": "c51d3c44",
   "metadata": {
    "execution": {
     "iopub.execute_input": "2025-03-01T08:30:17.762166Z",
     "iopub.status.busy": "2025-03-01T08:30:17.761519Z",
     "iopub.status.idle": "2025-03-01T08:30:17.839296Z",
     "shell.execute_reply": "2025-03-01T08:30:17.837877Z"
    },
    "papermill": {
     "duration": 0.088535,
     "end_time": "2025-03-01T08:30:17.841261",
     "exception": false,
     "start_time": "2025-03-01T08:30:17.752726",
     "status": "completed"
    },
    "tags": []
   },
   "outputs": [
    {
     "name": "stdout",
     "output_type": "stream",
     "text": [
      "<class 'pandas.core.frame.DataFrame'>\n",
      "RangeIndex: 294478 entries, 0 to 294477\n",
      "Data columns (total 5 columns):\n",
      " #   Column        Non-Null Count   Dtype \n",
      "---  ------        --------------   ----- \n",
      " 0   user_id       294478 non-null  int64 \n",
      " 1   timestamp     294478 non-null  object\n",
      " 2   group         294478 non-null  object\n",
      " 3   landing_page  294478 non-null  object\n",
      " 4   converted     294478 non-null  int64 \n",
      "dtypes: int64(2), object(3)\n",
      "memory usage: 11.2+ MB\n"
     ]
    }
   ],
   "source": [
    "df.info()"
   ]
  },
  {
   "cell_type": "markdown",
   "id": "5cd07395",
   "metadata": {
    "papermill": {
     "duration": 0.007276,
     "end_time": "2025-03-01T08:30:17.857090",
     "exception": false,
     "start_time": "2025-03-01T08:30:17.849814",
     "status": "completed"
    },
    "tags": []
   },
   "source": [
    "* user_id:用户ID\n",
    "* timestamp:用户访问页面时间\n",
    "* group:用户分组情况【treatment-新；control-旧】\n",
    "* landing_page: 分到的页面，与group字段一一对应\n",
    "* converted:是否成功转化"
   ]
  },
  {
   "cell_type": "code",
   "execution_count": 4,
   "id": "d78bad77",
   "metadata": {
    "execution": {
     "iopub.execute_input": "2025-03-01T08:30:17.872446Z",
     "iopub.status.busy": "2025-03-01T08:30:17.872020Z",
     "iopub.status.idle": "2025-03-01T08:30:17.898443Z",
     "shell.execute_reply": "2025-03-01T08:30:17.897351Z"
    },
    "papermill": {
     "duration": 0.035975,
     "end_time": "2025-03-01T08:30:17.900086",
     "exception": false,
     "start_time": "2025-03-01T08:30:17.864111",
     "status": "completed"
    },
    "tags": []
   },
   "outputs": [
    {
     "data": {
      "text/plain": [
       "group\n",
       "treatment    147276\n",
       "control      147202\n",
       "Name: count, dtype: int64"
      ]
     },
     "execution_count": 4,
     "metadata": {},
     "output_type": "execute_result"
    }
   ],
   "source": [
    "df['group'].value_counts()"
   ]
  },
  {
   "cell_type": "markdown",
   "id": "9f4297ac",
   "metadata": {
    "papermill": {
     "duration": 0.006634,
     "end_time": "2025-03-01T08:30:17.913911",
     "exception": false,
     "start_time": "2025-03-01T08:30:17.907277",
     "status": "completed"
    },
    "tags": []
   },
   "source": [
    "# 4. 数据清洗"
   ]
  },
  {
   "cell_type": "code",
   "execution_count": 5,
   "id": "2d4d8578",
   "metadata": {
    "execution": {
     "iopub.execute_input": "2025-03-01T08:30:17.930162Z",
     "iopub.status.busy": "2025-03-01T08:30:17.929819Z",
     "iopub.status.idle": "2025-03-01T08:30:17.981770Z",
     "shell.execute_reply": "2025-03-01T08:30:17.980699Z"
    },
    "papermill": {
     "duration": 0.061966,
     "end_time": "2025-03-01T08:30:17.983551",
     "exception": false,
     "start_time": "2025-03-01T08:30:17.921585",
     "status": "completed"
    },
    "tags": []
   },
   "outputs": [
    {
     "data": {
      "text/plain": [
       "user_id         0\n",
       "timestamp       0\n",
       "group           0\n",
       "landing_page    0\n",
       "converted       0\n",
       "dtype: int64"
      ]
     },
     "execution_count": 5,
     "metadata": {},
     "output_type": "execute_result"
    }
   ],
   "source": [
    "# 检查缺失值\n",
    "df.isnull().sum()"
   ]
  },
  {
   "cell_type": "code",
   "execution_count": 6,
   "id": "cb27e134",
   "metadata": {
    "execution": {
     "iopub.execute_input": "2025-03-01T08:30:17.999220Z",
     "iopub.status.busy": "2025-03-01T08:30:17.998892Z",
     "iopub.status.idle": "2025-03-01T08:30:18.138629Z",
     "shell.execute_reply": "2025-03-01T08:30:18.137645Z"
    },
    "papermill": {
     "duration": 0.14977,
     "end_time": "2025-03-01T08:30:18.140306",
     "exception": false,
     "start_time": "2025-03-01T08:30:17.990536",
     "status": "completed"
    },
    "tags": []
   },
   "outputs": [
    {
     "data": {
      "text/plain": [
       "0"
      ]
     },
     "execution_count": 6,
     "metadata": {},
     "output_type": "execute_result"
    }
   ],
   "source": [
    "# 检查重复值\n",
    "df.duplicated().sum()"
   ]
  },
  {
   "cell_type": "code",
   "execution_count": 7,
   "id": "28ee9420",
   "metadata": {
    "execution": {
     "iopub.execute_input": "2025-03-01T08:30:18.156507Z",
     "iopub.status.busy": "2025-03-01T08:30:18.156111Z",
     "iopub.status.idle": "2025-03-01T08:30:18.171266Z",
     "shell.execute_reply": "2025-03-01T08:30:18.170048Z"
    },
    "papermill": {
     "duration": 0.025102,
     "end_time": "2025-03-01T08:30:18.173195",
     "exception": false,
     "start_time": "2025-03-01T08:30:18.148093",
     "status": "completed"
    },
    "tags": []
   },
   "outputs": [
    {
     "data": {
      "text/plain": [
       "3894"
      ]
     },
     "execution_count": 7,
     "metadata": {},
     "output_type": "execute_result"
    }
   ],
   "source": [
    "# 检查用户ID的重复情况\n",
    "df['user_id'].duplicated().sum()"
   ]
  },
  {
   "cell_type": "code",
   "execution_count": 8,
   "id": "9aff31d1",
   "metadata": {
    "execution": {
     "iopub.execute_input": "2025-03-01T08:30:18.190380Z",
     "iopub.status.busy": "2025-03-01T08:30:18.189974Z",
     "iopub.status.idle": "2025-03-01T08:30:18.210113Z",
     "shell.execute_reply": "2025-03-01T08:30:18.209042Z"
    },
    "papermill": {
     "duration": 0.031289,
     "end_time": "2025-03-01T08:30:18.212066",
     "exception": false,
     "start_time": "2025-03-01T08:30:18.180777",
     "status": "completed"
    },
    "tags": []
   },
   "outputs": [
    {
     "data": {
      "text/plain": [
       "2656      698120\n",
       "2893      773192\n",
       "7500      899953\n",
       "8036      790934\n",
       "10218     633793\n",
       "           ...  \n",
       "294308    905197\n",
       "294309    787083\n",
       "294328    641570\n",
       "294331    689637\n",
       "294355    744456\n",
       "Name: user_id, Length: 3894, dtype: int64"
      ]
     },
     "execution_count": 8,
     "metadata": {},
     "output_type": "execute_result"
    }
   ],
   "source": [
    "# 查询出ID重复用户的数据\n",
    "df[df['user_id'].duplicated()]['user_id']"
   ]
  },
  {
   "cell_type": "code",
   "execution_count": 9,
   "id": "5b6716af",
   "metadata": {
    "execution": {
     "iopub.execute_input": "2025-03-01T08:30:18.228315Z",
     "iopub.status.busy": "2025-03-01T08:30:18.227898Z",
     "iopub.status.idle": "2025-03-01T08:30:18.239271Z",
     "shell.execute_reply": "2025-03-01T08:30:18.238192Z"
    },
    "papermill": {
     "duration": 0.021457,
     "end_time": "2025-03-01T08:30:18.241105",
     "exception": false,
     "start_time": "2025-03-01T08:30:18.219648",
     "status": "completed"
    },
    "tags": []
   },
   "outputs": [
    {
     "data": {
      "text/html": [
       "<div>\n",
       "<style scoped>\n",
       "    .dataframe tbody tr th:only-of-type {\n",
       "        vertical-align: middle;\n",
       "    }\n",
       "\n",
       "    .dataframe tbody tr th {\n",
       "        vertical-align: top;\n",
       "    }\n",
       "\n",
       "    .dataframe thead th {\n",
       "        text-align: right;\n",
       "    }\n",
       "</style>\n",
       "<table border=\"1\" class=\"dataframe\">\n",
       "  <thead>\n",
       "    <tr style=\"text-align: right;\">\n",
       "      <th></th>\n",
       "      <th>user_id</th>\n",
       "      <th>timestamp</th>\n",
       "      <th>group</th>\n",
       "      <th>landing_page</th>\n",
       "      <th>converted</th>\n",
       "    </tr>\n",
       "  </thead>\n",
       "  <tbody>\n",
       "    <tr>\n",
       "      <th>988</th>\n",
       "      <td>698120</td>\n",
       "      <td>2017-01-22 07:09:37.540970</td>\n",
       "      <td>control</td>\n",
       "      <td>new_page</td>\n",
       "      <td>0</td>\n",
       "    </tr>\n",
       "    <tr>\n",
       "      <th>2656</th>\n",
       "      <td>698120</td>\n",
       "      <td>2017-01-15 17:13:42.602796</td>\n",
       "      <td>control</td>\n",
       "      <td>old_page</td>\n",
       "      <td>0</td>\n",
       "    </tr>\n",
       "  </tbody>\n",
       "</table>\n",
       "</div>"
      ],
      "text/plain": [
       "      user_id                   timestamp    group landing_page  converted\n",
       "988    698120  2017-01-22 07:09:37.540970  control     new_page          0\n",
       "2656   698120  2017-01-15 17:13:42.602796  control     old_page          0"
      ]
     },
     "execution_count": 9,
     "metadata": {},
     "output_type": "execute_result"
    }
   ],
   "source": [
    "# 查看其中某位id重复用户的情况【抽查】\n",
    "df[df['user_id'] == 698120]"
   ]
  },
  {
   "cell_type": "code",
   "execution_count": 10,
   "id": "b41b5d6c",
   "metadata": {
    "execution": {
     "iopub.execute_input": "2025-03-01T08:30:18.258889Z",
     "iopub.status.busy": "2025-03-01T08:30:18.258524Z",
     "iopub.status.idle": "2025-03-01T08:30:18.274461Z",
     "shell.execute_reply": "2025-03-01T08:30:18.273462Z"
    },
    "papermill": {
     "duration": 0.026687,
     "end_time": "2025-03-01T08:30:18.276252",
     "exception": false,
     "start_time": "2025-03-01T08:30:18.249565",
     "status": "completed"
    },
    "tags": []
   },
   "outputs": [
    {
     "data": {
      "text/plain": [
       "array([698120, 773192, 899953, ..., 641570, 689637, 744456])"
      ]
     },
     "execution_count": 10,
     "metadata": {},
     "output_type": "execute_result"
    }
   ],
   "source": [
    "# 存储下所有ID重复用户的ID\n",
    "del_id = df[df['user_id'].duplicated()]['user_id'].values\n",
    "del_id"
   ]
  },
  {
   "cell_type": "code",
   "execution_count": 11,
   "id": "98c62479",
   "metadata": {
    "execution": {
     "iopub.execute_input": "2025-03-01T08:30:18.293170Z",
     "iopub.status.busy": "2025-03-01T08:30:18.292840Z",
     "iopub.status.idle": "2025-03-01T08:30:18.325608Z",
     "shell.execute_reply": "2025-03-01T08:30:18.324524Z"
    },
    "papermill": {
     "duration": 0.043382,
     "end_time": "2025-03-01T08:30:18.327372",
     "exception": false,
     "start_time": "2025-03-01T08:30:18.283990",
     "status": "completed"
    },
    "tags": []
   },
   "outputs": [
    {
     "data": {
      "text/html": [
       "<div>\n",
       "<style scoped>\n",
       "    .dataframe tbody tr th:only-of-type {\n",
       "        vertical-align: middle;\n",
       "    }\n",
       "\n",
       "    .dataframe tbody tr th {\n",
       "        vertical-align: top;\n",
       "    }\n",
       "\n",
       "    .dataframe thead th {\n",
       "        text-align: right;\n",
       "    }\n",
       "</style>\n",
       "<table border=\"1\" class=\"dataframe\">\n",
       "  <thead>\n",
       "    <tr style=\"text-align: right;\">\n",
       "      <th></th>\n",
       "      <th>user_id</th>\n",
       "      <th>timestamp</th>\n",
       "      <th>group</th>\n",
       "      <th>landing_page</th>\n",
       "      <th>converted</th>\n",
       "    </tr>\n",
       "  </thead>\n",
       "  <tbody>\n",
       "    <tr>\n",
       "      <th>0</th>\n",
       "      <td>851104</td>\n",
       "      <td>2017-01-21 22:11:48.556739</td>\n",
       "      <td>control</td>\n",
       "      <td>old_page</td>\n",
       "      <td>0</td>\n",
       "    </tr>\n",
       "    <tr>\n",
       "      <th>1</th>\n",
       "      <td>804228</td>\n",
       "      <td>2017-01-12 08:01:45.159739</td>\n",
       "      <td>control</td>\n",
       "      <td>old_page</td>\n",
       "      <td>0</td>\n",
       "    </tr>\n",
       "    <tr>\n",
       "      <th>2</th>\n",
       "      <td>661590</td>\n",
       "      <td>2017-01-11 16:55:06.154213</td>\n",
       "      <td>treatment</td>\n",
       "      <td>new_page</td>\n",
       "      <td>0</td>\n",
       "    </tr>\n",
       "    <tr>\n",
       "      <th>3</th>\n",
       "      <td>853541</td>\n",
       "      <td>2017-01-08 18:28:03.143765</td>\n",
       "      <td>treatment</td>\n",
       "      <td>new_page</td>\n",
       "      <td>0</td>\n",
       "    </tr>\n",
       "    <tr>\n",
       "      <th>4</th>\n",
       "      <td>864975</td>\n",
       "      <td>2017-01-21 01:52:26.210827</td>\n",
       "      <td>control</td>\n",
       "      <td>old_page</td>\n",
       "      <td>1</td>\n",
       "    </tr>\n",
       "    <tr>\n",
       "      <th>...</th>\n",
       "      <td>...</td>\n",
       "      <td>...</td>\n",
       "      <td>...</td>\n",
       "      <td>...</td>\n",
       "      <td>...</td>\n",
       "    </tr>\n",
       "    <tr>\n",
       "      <th>294473</th>\n",
       "      <td>751197</td>\n",
       "      <td>2017-01-03 22:28:38.630509</td>\n",
       "      <td>control</td>\n",
       "      <td>old_page</td>\n",
       "      <td>0</td>\n",
       "    </tr>\n",
       "    <tr>\n",
       "      <th>294474</th>\n",
       "      <td>945152</td>\n",
       "      <td>2017-01-12 00:51:57.078372</td>\n",
       "      <td>control</td>\n",
       "      <td>old_page</td>\n",
       "      <td>0</td>\n",
       "    </tr>\n",
       "    <tr>\n",
       "      <th>294475</th>\n",
       "      <td>734608</td>\n",
       "      <td>2017-01-22 11:45:03.439544</td>\n",
       "      <td>control</td>\n",
       "      <td>old_page</td>\n",
       "      <td>0</td>\n",
       "    </tr>\n",
       "    <tr>\n",
       "      <th>294476</th>\n",
       "      <td>697314</td>\n",
       "      <td>2017-01-15 01:20:28.957438</td>\n",
       "      <td>control</td>\n",
       "      <td>old_page</td>\n",
       "      <td>0</td>\n",
       "    </tr>\n",
       "    <tr>\n",
       "      <th>294477</th>\n",
       "      <td>715931</td>\n",
       "      <td>2017-01-16 12:40:24.467417</td>\n",
       "      <td>treatment</td>\n",
       "      <td>new_page</td>\n",
       "      <td>0</td>\n",
       "    </tr>\n",
       "  </tbody>\n",
       "</table>\n",
       "<p>286690 rows × 5 columns</p>\n",
       "</div>"
      ],
      "text/plain": [
       "        user_id                   timestamp      group landing_page  converted\n",
       "0        851104  2017-01-21 22:11:48.556739    control     old_page          0\n",
       "1        804228  2017-01-12 08:01:45.159739    control     old_page          0\n",
       "2        661590  2017-01-11 16:55:06.154213  treatment     new_page          0\n",
       "3        853541  2017-01-08 18:28:03.143765  treatment     new_page          0\n",
       "4        864975  2017-01-21 01:52:26.210827    control     old_page          1\n",
       "...         ...                         ...        ...          ...        ...\n",
       "294473   751197  2017-01-03 22:28:38.630509    control     old_page          0\n",
       "294474   945152  2017-01-12 00:51:57.078372    control     old_page          0\n",
       "294475   734608  2017-01-22 11:45:03.439544    control     old_page          0\n",
       "294476   697314  2017-01-15 01:20:28.957438    control     old_page          0\n",
       "294477   715931  2017-01-16 12:40:24.467417  treatment     new_page          0\n",
       "\n",
       "[286690 rows x 5 columns]"
      ]
     },
     "execution_count": 11,
     "metadata": {},
     "output_type": "execute_result"
    }
   ],
   "source": [
    "# 删除ID重复的用户\n",
    "df_new = df[~df['user_id'].isin(del_id)]\n",
    "df_new"
   ]
  },
  {
   "cell_type": "markdown",
   "id": "2b79660e",
   "metadata": {
    "papermill": {
     "duration": 0.007519,
     "end_time": "2025-03-01T08:30:18.342622",
     "exception": false,
     "start_time": "2025-03-01T08:30:18.335103",
     "status": "completed"
    },
    "tags": []
   },
   "source": [
    "* 下面处理时间字段"
   ]
  },
  {
   "cell_type": "code",
   "execution_count": 12,
   "id": "3902382c",
   "metadata": {
    "execution": {
     "iopub.execute_input": "2025-03-01T08:30:18.359114Z",
     "iopub.status.busy": "2025-03-01T08:30:18.358790Z",
     "iopub.status.idle": "2025-03-01T08:30:18.460533Z",
     "shell.execute_reply": "2025-03-01T08:30:18.459337Z"
    },
    "papermill": {
     "duration": 0.112274,
     "end_time": "2025-03-01T08:30:18.462619",
     "exception": false,
     "start_time": "2025-03-01T08:30:18.350345",
     "status": "completed"
    },
    "tags": []
   },
   "outputs": [
    {
     "data": {
      "text/plain": [
       "0        2017-01-21 22:11:48.556739\n",
       "1        2017-01-12 08:01:45.159739\n",
       "2        2017-01-11 16:55:06.154213\n",
       "3        2017-01-08 18:28:03.143765\n",
       "4        2017-01-21 01:52:26.210827\n",
       "                    ...            \n",
       "294473   2017-01-03 22:28:38.630509\n",
       "294474   2017-01-12 00:51:57.078372\n",
       "294475   2017-01-22 11:45:03.439544\n",
       "294476   2017-01-15 01:20:28.957438\n",
       "294477   2017-01-16 12:40:24.467417\n",
       "Name: timestamp, Length: 286690, dtype: datetime64[ns]"
      ]
     },
     "execution_count": 12,
     "metadata": {},
     "output_type": "execute_result"
    }
   ],
   "source": [
    "pd.to_datetime(df_new['timestamp'], format='%Y-%m-%d %H:%M:%S.%f')"
   ]
  },
  {
   "cell_type": "code",
   "execution_count": 13,
   "id": "e7016985",
   "metadata": {
    "execution": {
     "iopub.execute_input": "2025-03-01T08:30:18.484719Z",
     "iopub.status.busy": "2025-03-01T08:30:18.484327Z",
     "iopub.status.idle": "2025-03-01T08:30:18.863534Z",
     "shell.execute_reply": "2025-03-01T08:30:18.862097Z"
    },
    "papermill": {
     "duration": 0.390678,
     "end_time": "2025-03-01T08:30:18.865440",
     "exception": false,
     "start_time": "2025-03-01T08:30:18.474762",
     "status": "completed"
    },
    "tags": []
   },
   "outputs": [
    {
     "name": "stderr",
     "output_type": "stream",
     "text": [
      "<ipython-input-13-c8f2b889eb74>:2: SettingWithCopyWarning: \n",
      "A value is trying to be set on a copy of a slice from a DataFrame.\n",
      "Try using .loc[row_indexer,col_indexer] = value instead\n",
      "\n",
      "See the caveats in the documentation: https://pandas.pydata.org/pandas-docs/stable/user_guide/indexing.html#returning-a-view-versus-a-copy\n",
      "  df_new['timestamp'] = pd.to_datetime(df_new['timestamp'], format='%Y-%m-%d %H:%M:%S.%f').dt.strftime('%Y-%m-%d')\n"
     ]
    },
    {
     "data": {
      "text/plain": [
       "0         2017-01-21\n",
       "1         2017-01-12\n",
       "2         2017-01-11\n",
       "3         2017-01-08\n",
       "4         2017-01-21\n",
       "             ...    \n",
       "294473    2017-01-03\n",
       "294474    2017-01-12\n",
       "294475    2017-01-22\n",
       "294476    2017-01-15\n",
       "294477    2017-01-16\n",
       "Name: timestamp, Length: 286690, dtype: object"
      ]
     },
     "execution_count": 13,
     "metadata": {},
     "output_type": "execute_result"
    }
   ],
   "source": [
    "# 处理时间并处理\n",
    "df_new['timestamp'] = pd.to_datetime(df_new['timestamp'], format='%Y-%m-%d %H:%M:%S.%f').dt.strftime('%Y-%m-%d')\n",
    "df_new['timestamp']"
   ]
  },
  {
   "cell_type": "code",
   "execution_count": 14,
   "id": "9a58ab35",
   "metadata": {
    "execution": {
     "iopub.execute_input": "2025-03-01T08:30:18.884134Z",
     "iopub.status.busy": "2025-03-01T08:30:18.883773Z",
     "iopub.status.idle": "2025-03-01T08:30:18.910011Z",
     "shell.execute_reply": "2025-03-01T08:30:18.908950Z"
    },
    "papermill": {
     "duration": 0.037997,
     "end_time": "2025-03-01T08:30:18.911795",
     "exception": false,
     "start_time": "2025-03-01T08:30:18.873798",
     "status": "completed"
    },
    "tags": []
   },
   "outputs": [
    {
     "data": {
      "text/plain": [
       "23"
      ]
     },
     "execution_count": 14,
     "metadata": {},
     "output_type": "execute_result"
    }
   ],
   "source": [
    "# 查看实验周期\n",
    "len(df_new['timestamp'].unique())"
   ]
  },
  {
   "cell_type": "code",
   "execution_count": 15,
   "id": "67df5116",
   "metadata": {
    "execution": {
     "iopub.execute_input": "2025-03-01T08:30:18.929865Z",
     "iopub.status.busy": "2025-03-01T08:30:18.929484Z",
     "iopub.status.idle": "2025-03-01T08:30:18.939875Z",
     "shell.execute_reply": "2025-03-01T08:30:18.938750Z"
    },
    "papermill": {
     "duration": 0.02179,
     "end_time": "2025-03-01T08:30:18.941750",
     "exception": false,
     "start_time": "2025-03-01T08:30:18.919960",
     "status": "completed"
    },
    "tags": []
   },
   "outputs": [
    {
     "data": {
      "text/html": [
       "<div>\n",
       "<style scoped>\n",
       "    .dataframe tbody tr th:only-of-type {\n",
       "        vertical-align: middle;\n",
       "    }\n",
       "\n",
       "    .dataframe tbody tr th {\n",
       "        vertical-align: top;\n",
       "    }\n",
       "\n",
       "    .dataframe thead th {\n",
       "        text-align: right;\n",
       "    }\n",
       "</style>\n",
       "<table border=\"1\" class=\"dataframe\">\n",
       "  <thead>\n",
       "    <tr style=\"text-align: right;\">\n",
       "      <th></th>\n",
       "      <th>user_id</th>\n",
       "      <th>timestamp</th>\n",
       "      <th>group</th>\n",
       "      <th>landing_page</th>\n",
       "      <th>converted</th>\n",
       "    </tr>\n",
       "  </thead>\n",
       "  <tbody>\n",
       "    <tr>\n",
       "      <th>0</th>\n",
       "      <td>851104</td>\n",
       "      <td>2017-01-21</td>\n",
       "      <td>control</td>\n",
       "      <td>old_page</td>\n",
       "      <td>0</td>\n",
       "    </tr>\n",
       "    <tr>\n",
       "      <th>1</th>\n",
       "      <td>804228</td>\n",
       "      <td>2017-01-12</td>\n",
       "      <td>control</td>\n",
       "      <td>old_page</td>\n",
       "      <td>0</td>\n",
       "    </tr>\n",
       "    <tr>\n",
       "      <th>2</th>\n",
       "      <td>661590</td>\n",
       "      <td>2017-01-11</td>\n",
       "      <td>treatment</td>\n",
       "      <td>new_page</td>\n",
       "      <td>0</td>\n",
       "    </tr>\n",
       "    <tr>\n",
       "      <th>3</th>\n",
       "      <td>853541</td>\n",
       "      <td>2017-01-08</td>\n",
       "      <td>treatment</td>\n",
       "      <td>new_page</td>\n",
       "      <td>0</td>\n",
       "    </tr>\n",
       "    <tr>\n",
       "      <th>4</th>\n",
       "      <td>864975</td>\n",
       "      <td>2017-01-21</td>\n",
       "      <td>control</td>\n",
       "      <td>old_page</td>\n",
       "      <td>1</td>\n",
       "    </tr>\n",
       "  </tbody>\n",
       "</table>\n",
       "</div>"
      ],
      "text/plain": [
       "   user_id   timestamp      group landing_page  converted\n",
       "0   851104  2017-01-21    control     old_page          0\n",
       "1   804228  2017-01-12    control     old_page          0\n",
       "2   661590  2017-01-11  treatment     new_page          0\n",
       "3   853541  2017-01-08  treatment     new_page          0\n",
       "4   864975  2017-01-21    control     old_page          1"
      ]
     },
     "execution_count": 15,
     "metadata": {},
     "output_type": "execute_result"
    }
   ],
   "source": [
    "# 检查处理完毕后的数据\n",
    "df_new.head()"
   ]
  },
  {
   "cell_type": "code",
   "execution_count": 16,
   "id": "7e8a7162",
   "metadata": {
    "execution": {
     "iopub.execute_input": "2025-03-01T08:30:18.960609Z",
     "iopub.status.busy": "2025-03-01T08:30:18.960161Z",
     "iopub.status.idle": "2025-03-01T08:30:19.017079Z",
     "shell.execute_reply": "2025-03-01T08:30:19.015366Z"
    },
    "papermill": {
     "duration": 0.068625,
     "end_time": "2025-03-01T08:30:19.019315",
     "exception": false,
     "start_time": "2025-03-01T08:30:18.950690",
     "status": "completed"
    },
    "tags": []
   },
   "outputs": [
    {
     "name": "stdout",
     "output_type": "stream",
     "text": [
      "<class 'pandas.core.frame.DataFrame'>\n",
      "Index: 286690 entries, 0 to 294477\n",
      "Data columns (total 5 columns):\n",
      " #   Column        Non-Null Count   Dtype \n",
      "---  ------        --------------   ----- \n",
      " 0   user_id       286690 non-null  int64 \n",
      " 1   timestamp     286690 non-null  object\n",
      " 2   group         286690 non-null  object\n",
      " 3   landing_page  286690 non-null  object\n",
      " 4   converted     286690 non-null  int64 \n",
      "dtypes: int64(2), object(3)\n",
      "memory usage: 13.1+ MB\n"
     ]
    }
   ],
   "source": [
    "df_new.info()"
   ]
  },
  {
   "cell_type": "markdown",
   "id": "d48d4bc7",
   "metadata": {
    "papermill": {
     "duration": 0.008108,
     "end_time": "2025-03-01T08:30:19.036135",
     "exception": false,
     "start_time": "2025-03-01T08:30:19.028027",
     "status": "completed"
    },
    "tags": []
   },
   "source": [
    "* 检查确定group和landing_page的值一一对应"
   ]
  },
  {
   "cell_type": "code",
   "execution_count": 17,
   "id": "26c8690e",
   "metadata": {
    "execution": {
     "iopub.execute_input": "2025-03-01T08:30:19.054316Z",
     "iopub.status.busy": "2025-03-01T08:30:19.053898Z",
     "iopub.status.idle": "2025-03-01T08:30:19.181664Z",
     "shell.execute_reply": "2025-03-01T08:30:19.180575Z"
    },
    "papermill": {
     "duration": 0.139243,
     "end_time": "2025-03-01T08:30:19.183637",
     "exception": false,
     "start_time": "2025-03-01T08:30:19.044394",
     "status": "completed"
    },
    "tags": []
   },
   "outputs": [
    {
     "data": {
      "text/html": [
       "<div>\n",
       "<style scoped>\n",
       "    .dataframe tbody tr th:only-of-type {\n",
       "        vertical-align: middle;\n",
       "    }\n",
       "\n",
       "    .dataframe tbody tr th {\n",
       "        vertical-align: top;\n",
       "    }\n",
       "\n",
       "    .dataframe thead th {\n",
       "        text-align: right;\n",
       "    }\n",
       "</style>\n",
       "<table border=\"1\" class=\"dataframe\">\n",
       "  <thead>\n",
       "    <tr style=\"text-align: right;\">\n",
       "      <th>landing_page</th>\n",
       "      <th>new_page</th>\n",
       "      <th>old_page</th>\n",
       "    </tr>\n",
       "    <tr>\n",
       "      <th>group</th>\n",
       "      <th></th>\n",
       "      <th></th>\n",
       "    </tr>\n",
       "  </thead>\n",
       "  <tbody>\n",
       "    <tr>\n",
       "      <th>control</th>\n",
       "      <td>0</td>\n",
       "      <td>143293</td>\n",
       "    </tr>\n",
       "    <tr>\n",
       "      <th>treatment</th>\n",
       "      <td>143397</td>\n",
       "      <td>0</td>\n",
       "    </tr>\n",
       "  </tbody>\n",
       "</table>\n",
       "</div>"
      ],
      "text/plain": [
       "landing_page  new_page  old_page\n",
       "group                           \n",
       "control              0    143293\n",
       "treatment       143397         0"
      ]
     },
     "execution_count": 17,
     "metadata": {},
     "output_type": "execute_result"
    }
   ],
   "source": [
    "# 利用交叉表检查：确保contorl组的用户看到的是旧页面；treament组看到的是新页面\n",
    "pd.crosstab(df_new['group'], df_new['landing_page'])"
   ]
  },
  {
   "cell_type": "markdown",
   "id": "783ff0c5",
   "metadata": {
    "papermill": {
     "duration": 0.008288,
     "end_time": "2025-03-01T08:30:19.201161",
     "exception": false,
     "start_time": "2025-03-01T08:30:19.192873",
     "status": "completed"
    },
    "tags": []
   },
   "source": [
    "# 5. 假设检验"
   ]
  },
  {
   "cell_type": "code",
   "execution_count": 18,
   "id": "f9f87634",
   "metadata": {
    "execution": {
     "iopub.execute_input": "2025-03-01T08:30:19.219410Z",
     "iopub.status.busy": "2025-03-01T08:30:19.219014Z",
     "iopub.status.idle": "2025-03-01T08:30:19.315099Z",
     "shell.execute_reply": "2025-03-01T08:30:19.313895Z"
    },
    "papermill": {
     "duration": 0.10717,
     "end_time": "2025-03-01T08:30:19.316798",
     "exception": false,
     "start_time": "2025-03-01T08:30:19.209628",
     "status": "completed"
    },
    "tags": []
   },
   "outputs": [
    {
     "data": {
      "text/html": [
       "<div>\n",
       "<style scoped>\n",
       "    .dataframe tbody tr th:only-of-type {\n",
       "        vertical-align: middle;\n",
       "    }\n",
       "\n",
       "    .dataframe tbody tr th {\n",
       "        vertical-align: top;\n",
       "    }\n",
       "\n",
       "    .dataframe thead th {\n",
       "        text-align: right;\n",
       "    }\n",
       "</style>\n",
       "<table border=\"1\" class=\"dataframe\">\n",
       "  <thead>\n",
       "    <tr style=\"text-align: right;\">\n",
       "      <th></th>\n",
       "      <th>user_id</th>\n",
       "      <th>timestamp</th>\n",
       "      <th>group</th>\n",
       "      <th>landing_page</th>\n",
       "      <th>converted</th>\n",
       "    </tr>\n",
       "  </thead>\n",
       "  <tbody>\n",
       "    <tr>\n",
       "      <th>0</th>\n",
       "      <td>644036</td>\n",
       "      <td>2017-01-02</td>\n",
       "      <td>control</td>\n",
       "      <td>old_page</td>\n",
       "      <td>0</td>\n",
       "    </tr>\n",
       "    <tr>\n",
       "      <th>1</th>\n",
       "      <td>639507</td>\n",
       "      <td>2017-01-03</td>\n",
       "      <td>control</td>\n",
       "      <td>old_page</td>\n",
       "      <td>0</td>\n",
       "    </tr>\n",
       "    <tr>\n",
       "      <th>2</th>\n",
       "      <td>676723</td>\n",
       "      <td>2017-01-22</td>\n",
       "      <td>control</td>\n",
       "      <td>old_page</td>\n",
       "      <td>0</td>\n",
       "    </tr>\n",
       "    <tr>\n",
       "      <th>3</th>\n",
       "      <td>857987</td>\n",
       "      <td>2017-01-03</td>\n",
       "      <td>control</td>\n",
       "      <td>old_page</td>\n",
       "      <td>0</td>\n",
       "    </tr>\n",
       "    <tr>\n",
       "      <th>4</th>\n",
       "      <td>846620</td>\n",
       "      <td>2017-01-09</td>\n",
       "      <td>control</td>\n",
       "      <td>old_page</td>\n",
       "      <td>0</td>\n",
       "    </tr>\n",
       "    <tr>\n",
       "      <th>...</th>\n",
       "      <td>...</td>\n",
       "      <td>...</td>\n",
       "      <td>...</td>\n",
       "      <td>...</td>\n",
       "      <td>...</td>\n",
       "    </tr>\n",
       "    <tr>\n",
       "      <th>9995</th>\n",
       "      <td>885077</td>\n",
       "      <td>2017-01-23</td>\n",
       "      <td>treatment</td>\n",
       "      <td>new_page</td>\n",
       "      <td>0</td>\n",
       "    </tr>\n",
       "    <tr>\n",
       "      <th>9996</th>\n",
       "      <td>912811</td>\n",
       "      <td>2017-01-17</td>\n",
       "      <td>treatment</td>\n",
       "      <td>new_page</td>\n",
       "      <td>0</td>\n",
       "    </tr>\n",
       "    <tr>\n",
       "      <th>9997</th>\n",
       "      <td>764680</td>\n",
       "      <td>2017-01-14</td>\n",
       "      <td>treatment</td>\n",
       "      <td>new_page</td>\n",
       "      <td>0</td>\n",
       "    </tr>\n",
       "    <tr>\n",
       "      <th>9998</th>\n",
       "      <td>938454</td>\n",
       "      <td>2017-01-14</td>\n",
       "      <td>treatment</td>\n",
       "      <td>new_page</td>\n",
       "      <td>0</td>\n",
       "    </tr>\n",
       "    <tr>\n",
       "      <th>9999</th>\n",
       "      <td>831984</td>\n",
       "      <td>2017-01-16</td>\n",
       "      <td>treatment</td>\n",
       "      <td>new_page</td>\n",
       "      <td>0</td>\n",
       "    </tr>\n",
       "  </tbody>\n",
       "</table>\n",
       "<p>10000 rows × 5 columns</p>\n",
       "</div>"
      ],
      "text/plain": [
       "      user_id   timestamp      group landing_page  converted\n",
       "0      644036  2017-01-02    control     old_page          0\n",
       "1      639507  2017-01-03    control     old_page          0\n",
       "2      676723  2017-01-22    control     old_page          0\n",
       "3      857987  2017-01-03    control     old_page          0\n",
       "4      846620  2017-01-09    control     old_page          0\n",
       "...       ...         ...        ...          ...        ...\n",
       "9995   885077  2017-01-23  treatment     new_page          0\n",
       "9996   912811  2017-01-17  treatment     new_page          0\n",
       "9997   764680  2017-01-14  treatment     new_page          0\n",
       "9998   938454  2017-01-14  treatment     new_page          0\n",
       "9999   831984  2017-01-16  treatment     new_page          0\n",
       "\n",
       "[10000 rows x 5 columns]"
      ]
     },
     "execution_count": 18,
     "metadata": {},
     "output_type": "execute_result"
    }
   ],
   "source": [
    "# 每组随机抽取5000个样本\n",
    "required_n = 5000\n",
    "control_sample = df_new[df_new['group'] == 'control'].sample(n=required_n)\n",
    "treatment_sample = df_new[df_new['group'] == 'treatment'].sample(n=required_n)\n",
    "ab_test = pd.concat([control_sample, treatment_sample], axis=0)\n",
    "ab_test.reset_index(drop=True, inplace=True)\n",
    "ab_test"
   ]
  },
  {
   "cell_type": "code",
   "execution_count": 19,
   "id": "f287430a",
   "metadata": {
    "execution": {
     "iopub.execute_input": "2025-03-01T08:30:19.336341Z",
     "iopub.status.busy": "2025-03-01T08:30:19.335936Z",
     "iopub.status.idle": "2025-03-01T08:30:19.352921Z",
     "shell.execute_reply": "2025-03-01T08:30:19.351821Z"
    },
    "papermill": {
     "duration": 0.028649,
     "end_time": "2025-03-01T08:30:19.354691",
     "exception": false,
     "start_time": "2025-03-01T08:30:19.326042",
     "status": "completed"
    },
    "tags": []
   },
   "outputs": [
    {
     "data": {
      "text/html": [
       "<div>\n",
       "<style scoped>\n",
       "    .dataframe tbody tr th:only-of-type {\n",
       "        vertical-align: middle;\n",
       "    }\n",
       "\n",
       "    .dataframe tbody tr th {\n",
       "        vertical-align: top;\n",
       "    }\n",
       "\n",
       "    .dataframe thead th {\n",
       "        text-align: right;\n",
       "    }\n",
       "</style>\n",
       "<table border=\"1\" class=\"dataframe\">\n",
       "  <thead>\n",
       "    <tr style=\"text-align: right;\">\n",
       "      <th>landing_page</th>\n",
       "      <th>new_page</th>\n",
       "      <th>old_page</th>\n",
       "    </tr>\n",
       "    <tr>\n",
       "      <th>group</th>\n",
       "      <th></th>\n",
       "      <th></th>\n",
       "    </tr>\n",
       "  </thead>\n",
       "  <tbody>\n",
       "    <tr>\n",
       "      <th>control</th>\n",
       "      <td>0</td>\n",
       "      <td>5000</td>\n",
       "    </tr>\n",
       "    <tr>\n",
       "      <th>treatment</th>\n",
       "      <td>5000</td>\n",
       "      <td>0</td>\n",
       "    </tr>\n",
       "  </tbody>\n",
       "</table>\n",
       "</div>"
      ],
      "text/plain": [
       "landing_page  new_page  old_page\n",
       "group                           \n",
       "control              0      5000\n",
       "treatment         5000         0"
      ]
     },
     "execution_count": 19,
     "metadata": {},
     "output_type": "execute_result"
    }
   ],
   "source": [
    "# 利用交叉表检查：确保contorl组的用户看到的是旧页面；treament组看到的是新页面\n",
    "pd.crosstab(ab_test['group'], ab_test['landing_page'])"
   ]
  },
  {
   "cell_type": "markdown",
   "id": "bccdf26a",
   "metadata": {
    "papermill": {
     "duration": 0.008785,
     "end_time": "2025-03-01T08:30:19.372422",
     "exception": false,
     "start_time": "2025-03-01T08:30:19.363637",
     "status": "completed"
    },
    "tags": []
   },
   "source": [
    "* 计算转化率并可视化"
   ]
  },
  {
   "cell_type": "code",
   "execution_count": 20,
   "id": "1ef0e0c2",
   "metadata": {
    "execution": {
     "iopub.execute_input": "2025-03-01T08:30:19.392420Z",
     "iopub.status.busy": "2025-03-01T08:30:19.392038Z",
     "iopub.status.idle": "2025-03-01T08:30:19.412369Z",
     "shell.execute_reply": "2025-03-01T08:30:19.410842Z"
    },
    "papermill": {
     "duration": 0.031793,
     "end_time": "2025-03-01T08:30:19.414202",
     "exception": false,
     "start_time": "2025-03-01T08:30:19.382409",
     "status": "completed"
    },
    "tags": []
   },
   "outputs": [
    {
     "name": "stderr",
     "output_type": "stream",
     "text": [
      "<ipython-input-20-05f834f41d40>:2: FutureWarning: The provided callable <function mean at 0x7c03547e0790> is currently using SeriesGroupBy.mean. In a future version of pandas, the provided callable will be used directly. To keep current behavior pass the string \"mean\" instead.\n",
      "  c_r = ab_test.groupby('group')['converted'].agg([np.mean, np.std])\n",
      "<ipython-input-20-05f834f41d40>:2: FutureWarning: The provided callable <function std at 0x7c03547e08b0> is currently using SeriesGroupBy.std. In a future version of pandas, the provided callable will be used directly. To keep current behavior pass the string \"std\" instead.\n",
      "  c_r = ab_test.groupby('group')['converted'].agg([np.mean, np.std])\n"
     ]
    },
    {
     "data": {
      "text/html": [
       "<div>\n",
       "<style scoped>\n",
       "    .dataframe tbody tr th:only-of-type {\n",
       "        vertical-align: middle;\n",
       "    }\n",
       "\n",
       "    .dataframe tbody tr th {\n",
       "        vertical-align: top;\n",
       "    }\n",
       "\n",
       "    .dataframe thead th {\n",
       "        text-align: right;\n",
       "    }\n",
       "</style>\n",
       "<table border=\"1\" class=\"dataframe\">\n",
       "  <thead>\n",
       "    <tr style=\"text-align: right;\">\n",
       "      <th></th>\n",
       "      <th>conversion_rate</th>\n",
       "      <th>std_deviation</th>\n",
       "    </tr>\n",
       "    <tr>\n",
       "      <th>group</th>\n",
       "      <th></th>\n",
       "      <th></th>\n",
       "    </tr>\n",
       "  </thead>\n",
       "  <tbody>\n",
       "    <tr>\n",
       "      <th>control</th>\n",
       "      <td>0.117</td>\n",
       "      <td>0.321452</td>\n",
       "    </tr>\n",
       "    <tr>\n",
       "      <th>treatment</th>\n",
       "      <td>0.113</td>\n",
       "      <td>0.316624</td>\n",
       "    </tr>\n",
       "  </tbody>\n",
       "</table>\n",
       "</div>"
      ],
      "text/plain": [
       "           conversion_rate  std_deviation\n",
       "group                                    \n",
       "control              0.117       0.321452\n",
       "treatment            0.113       0.316624"
      ]
     },
     "execution_count": 20,
     "metadata": {},
     "output_type": "execute_result"
    }
   ],
   "source": [
    "# 转化率与方差\n",
    "c_r = ab_test.groupby('group')['converted'].agg([np.mean, np.std])\n",
    "c_r.columns = ['conversion_rate', 'std_deviation'] \n",
    "c_r"
   ]
  },
  {
   "cell_type": "code",
   "execution_count": 21,
   "id": "fbc5332a",
   "metadata": {
    "execution": {
     "iopub.execute_input": "2025-03-01T08:30:19.433510Z",
     "iopub.status.busy": "2025-03-01T08:30:19.433128Z",
     "iopub.status.idle": "2025-03-01T08:30:19.909530Z",
     "shell.execute_reply": "2025-03-01T08:30:19.908497Z"
    },
    "papermill": {
     "duration": 0.487811,
     "end_time": "2025-03-01T08:30:19.911295",
     "exception": false,
     "start_time": "2025-03-01T08:30:19.423484",
     "status": "completed"
    },
    "tags": []
   },
   "outputs": [
    {
     "name": "stderr",
     "output_type": "stream",
     "text": [
      "<ipython-input-21-b3fb5a9882d5>:7: FutureWarning: \n",
      "\n",
      "The `ci` parameter is deprecated. Use `errorbar=('ci', False)` for the same effect.\n",
      "\n",
      "  sns.barplot(x=ab_test['group'], y=df_new['converted'], ci=False)\n"
     ]
    },
    {
     "data": {
      "text/plain": [
       "Text(0, 0.5, 'conversion rate')"
      ]
     },
     "execution_count": 21,
     "metadata": {},
     "output_type": "execute_result"
    },
    {
     "data": {
      "image/png": "[encoded data removed]",
      "text/plain": [
       "<Figure size 480x360 with 1 Axes>"
      ]
     },
     "metadata": {},
     "output_type": "display_data"
    }
   ],
   "source": [
    "# 可视化\n",
    "plt.rcParams['font.family'] = 'SimHei'\n",
    "plt.rcParams['axes.unicode_minus'] = False\n",
    "\n",
    "plt.figure(figsize=(8,6), dpi=60)\n",
    "\n",
    "sns.barplot(x=ab_test['group'], y=df_new['converted'], ci=False)\n",
    "\n",
    "plt.ylim(0, 0.17)\n",
    "plt.title('Group conversion rate', fontsize=20)\n",
    "plt.xlabel('Group', fontsize=15)\n",
    "plt.ylabel('conversion rate', fontsize=15)"
   ]
  },
  {
   "cell_type": "markdown",
   "id": "0e0fa336",
   "metadata": {
    "papermill": {
     "duration": 0.009382,
     "end_time": "2025-03-01T08:30:19.930350",
     "exception": false,
     "start_time": "2025-03-01T08:30:19.920968",
     "status": "completed"
    },
    "tags": []
   },
   "source": [
    "* 高出0.3%是否是显著\n",
    "* 假设检验"
   ]
  },
  {
   "cell_type": "code",
   "execution_count": 22,
   "id": "169e2b18",
   "metadata": {
    "execution": {
     "iopub.execute_input": "2025-03-01T08:30:19.952150Z",
     "iopub.status.busy": "2025-03-01T08:30:19.951775Z",
     "iopub.status.idle": "2025-03-01T08:30:19.956326Z",
     "shell.execute_reply": "2025-03-01T08:30:19.955091Z"
    },
    "papermill": {
     "duration": 0.017662,
     "end_time": "2025-03-01T08:30:19.958258",
     "exception": false,
     "start_time": "2025-03-01T08:30:19.940596",
     "status": "completed"
    },
    "tags": []
   },
   "outputs": [],
   "source": [
    "from statsmodels.stats.proportion import proportions_ztest, proportion_confint"
   ]
  },
  {
   "cell_type": "code",
   "execution_count": 23,
   "id": "8ead4701",
   "metadata": {
    "execution": {
     "iopub.execute_input": "2025-03-01T08:30:19.980222Z",
     "iopub.status.busy": "2025-03-01T08:30:19.979854Z",
     "iopub.status.idle": "2025-03-01T08:30:19.993278Z",
     "shell.execute_reply": "2025-03-01T08:30:19.992003Z"
    },
    "papermill": {
     "duration": 0.026143,
     "end_time": "2025-03-01T08:30:19.995072",
     "exception": false,
     "start_time": "2025-03-01T08:30:19.968929",
     "status": "completed"
    },
    "tags": []
   },
   "outputs": [
    {
     "data": {
      "text/plain": [
       "[5000, 5000]"
      ]
     },
     "execution_count": 23,
     "metadata": {},
     "output_type": "execute_result"
    }
   ],
   "source": [
    "# 提取购买结果\n",
    "c_results = ab_test[ab_test['group'] == 'control']['converted']\n",
    "t_results = ab_test[ab_test['group'] == 'treatment']['converted']\n",
    "\n",
    "# 计算数量\n",
    "n_c = c_results.count()\n",
    "n_t = t_results.count()\n",
    "successes = [c_results.sum(), t_results.sum()]\n",
    "nobs = [n_c, n_t]\n",
    "nobs"
   ]
  },
  {
   "cell_type": "code",
   "execution_count": 24,
   "id": "7b71855e",
   "metadata": {
    "execution": {
     "iopub.execute_input": "2025-03-01T08:30:20.017362Z",
     "iopub.status.busy": "2025-03-01T08:30:20.016924Z",
     "iopub.status.idle": "2025-03-01T08:30:20.027127Z",
     "shell.execute_reply": "2025-03-01T08:30:20.025808Z"
    },
    "papermill": {
     "duration": 0.022846,
     "end_time": "2025-03-01T08:30:20.028872",
     "exception": false,
     "start_time": "2025-03-01T08:30:20.006026",
     "status": "completed"
    },
    "tags": []
   },
   "outputs": [
    {
     "name": "stdout",
     "output_type": "stream",
     "text": [
      "z_stat:0.63\n",
      "p:0.53\n",
      "95% for control:[0.108, 0.126]\n",
      "95% for treatment:[0.104, 0.122]\n"
     ]
    }
   ],
   "source": [
    "# Z检验\n",
    "# 计算得到Z值和p值\n",
    "z_stat, pval = proportions_ztest(successes, nobs = nobs)\n",
    "# 置信区间【95%】\n",
    "(lower_c, lower_t), (upper_c, upper_t) = proportion_confint(successes, nobs = nobs, alpha=0.05)\n",
    "print(f'z_stat:{z_stat:.2f}')\n",
    "print(f'p:{pval:.2f}')\n",
    "print(f'95% for control:[{lower_c:.3f}, {upper_c:.3f}]')\n",
    "print(f'95% for treatment:[{lower_t:.3f}, {upper_t:.3f}]')"
   ]
  },
  {
   "cell_type": "markdown",
   "id": "09a846fd",
   "metadata": {
    "papermill": {
     "duration": 0.010234,
     "end_time": "2025-03-01T08:30:20.049369",
     "exception": false,
     "start_time": "2025-03-01T08:30:20.039135",
     "status": "completed"
    },
    "tags": []
   },
   "source": [
    "* p值>>显著性水平，从而不能拒绝原假设；\n",
    "* treatment组【实验组】的置信区间不包含我们预期的15%，同样也说明新方案无法达到预期。"
   ]
  }
 ],
 "metadata": {
  "kaggle": {
   "accelerator": "none",
   "dataSources": [
    {
     "datasetId": 814538,
     "sourceId": 1394853,
     "sourceType": "datasetVersion"
    }
   ],
   "dockerImageVersionId": 30918,
   "isGpuEnabled": false,
   "isInternetEnabled": false,
   "language": "python",
   "sourceType": "notebook"
  },
  "kernelspec": {
   "display_name": "Python 3",
   "language": "python",
   "name": "python3"
  },
  "language_info": {
   "codemirror_mode": {
    "name": "ipython",
    "version": 3
   },
   "file_extension": ".py",
   "mimetype": "text/x-python",
   "name": "python",
   "nbconvert_exporter": "python",
   "pygments_lexer": "ipython3",
   "version": "3.10.12"
  },
  "papermill": {
   "default_parameters": {},
   "duration": 10.297145,
   "end_time": "2025-03-01T08:30:20.881648",
   "environment_variables": {},
   "exception": null,
   "input_path": "__notebook__.ipynb",
   "output_path": "__notebook__.ipynb",
   "parameters": {},
   "start_time": "2025-03-01T08:30:10.584503",
   "version": "2.6.0"
  }
 },
 "nbformat": 4,
 "nbformat_minor": 5
}
